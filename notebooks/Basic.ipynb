{
  "cells": [
    {
      "cell_type": "markdown",
      "source": [
        "# Notebook imports"
      ],
      "metadata": {
        "nteract": {
          "transient": {
            "deleting": false
          }
        }
      }
    },
    {
      "cell_type": "code",
      "source": [
        "import glob\r\n",
        "import os\r\n",
        "from pyspark.sql import functions as F"
      ],
      "outputs": [
        {
          "output_type": "display_data",
          "data": {
            "application/vnd.livy.statement-meta+json": {
              "spark_pool": "sparkPool01",
              "session_id": "0",
              "statement_id": 56,
              "state": "finished",
              "livy_statement_state": "available",
              "queued_time": "2023-03-13T23:05:01.0893086Z",
              "session_start_time": null,
              "execution_start_time": "2023-03-13T23:05:01.2830489Z",
              "execution_finish_time": "2023-03-13T23:05:01.4660775Z",
              "spark_jobs": null,
              "parent_msg_id": "bd82ec1a-5620-49a8-bcfb-98cd8107e351"
            },
            "text/plain": "StatementMeta(sparkPool01, 0, 56, Finished, Available)"
          },
          "metadata": {}
        }
      ],
      "execution_count": 41,
      "metadata": {
        "jupyter": {
          "source_hidden": false,
          "outputs_hidden": false
        },
        "nteract": {
          "transient": {
            "deleting": false
          }
        }
      }
    },
    {
      "cell_type": "markdown",
      "source": [
        "# Notebook variables"
      ],
      "metadata": {
        "nteract": {
          "transient": {
            "deleting": false
          }
        }
      }
    },
    {
      "cell_type": "code",
      "source": [
        "# NOTE: The dataRoot path must end in a '/'!\r\n",
        "dataRoot = \"abfss://[YOUR DATALAKE URI]/data/totals/\""
      ],
      "outputs": [
        {
          "output_type": "display_data",
          "data": {
            "application/vnd.livy.statement-meta+json": {
              "spark_pool": "sparkPool01",
              "session_id": "0",
              "statement_id": 95,
              "state": "finished",
              "livy_statement_state": "available",
              "queued_time": "2023-03-13T23:35:00.4111759Z",
              "session_start_time": null,
              "execution_start_time": "2023-03-13T23:35:00.5876939Z",
              "execution_finish_time": "2023-03-13T23:35:00.7627991Z",
              "spark_jobs": null,
              "parent_msg_id": "0f48404a-5986-4a24-b9e7-5f88583f991e"
            },
            "text/plain": "StatementMeta(sparkPool01, 0, 95, Finished, Available)"
          },
          "metadata": {}
        }
      ],
      "execution_count": 80,
      "metadata": {
        "jupyter": {
          "source_hidden": false,
          "outputs_hidden": false
        },
        "nteract": {
          "transient": {
            "deleting": false
          }
        }
      }
    },
    {
      "cell_type": "markdown",
      "source": [
        "# Load all CSV files"
      ],
      "metadata": {
        "nteract": {
          "transient": {
            "deleting": false
          }
        }
      }
    },
    {
      "cell_type": "code",
      "source": [
        "df = spark.read.format(\"csv\").option(\"header\", \"true\").load(dataRoot + \"*.csv\")\r\n",
        "df = df.withColumn(\"file_name\", F.input_file_name())"
      ],
      "outputs": [
        {
          "output_type": "display_data",
          "data": {
            "application/vnd.livy.statement-meta+json": {
              "spark_pool": "sparkPool01",
              "session_id": "0",
              "statement_id": 81,
              "state": "finished",
              "livy_statement_state": "available",
              "queued_time": "2023-03-13T23:23:10.3024136Z",
              "session_start_time": null,
              "execution_start_time": "2023-03-13T23:23:10.478422Z",
              "execution_finish_time": "2023-03-13T23:23:12.4729286Z",
              "spark_jobs": null,
              "parent_msg_id": "fedc3364-05c8-4b92-806e-28f4960afc32"
            },
            "text/plain": "StatementMeta(sparkPool01, 0, 81, Finished, Available)"
          },
          "metadata": {}
        }
      ],
      "execution_count": 66,
      "metadata": {
        "jupyter": {
          "source_hidden": false,
          "outputs_hidden": false
        },
        "nteract": {
          "transient": {
            "deleting": false
          }
        }
      }
    },
    {
      "cell_type": "code",
      "source": [
        "display(df)"
      ],
      "outputs": [],
      "execution_count": null,
      "metadata": {
        "jupyter": {
          "source_hidden": false,
          "outputs_hidden": false
        },
        "nteract": {
          "transient": {
            "deleting": false
          }
        },
        "collapsed": false
      }
    },
    {
      "cell_type": "markdown",
      "source": [
        "# Pre-process dataset"
      ],
      "metadata": {
        "nteract": {
          "transient": {
            "deleting": false
          }
        }
      }
    },
    {
      "cell_type": "code",
      "source": [
        "df = df.withColumn(\"Year\", F.regexp_extract(df[\"file_name\"], r\"\\d{4}\", 0))\r\n",
        "df = df.drop(\"file_name\")\r\n",
        "df = df.withColumn(\"Player\", F.regexp_replace(df[\"Player\"], \"\\*\", \"\"))"
      ],
      "outputs": [
        {
          "output_type": "display_data",
          "data": {
            "application/vnd.livy.statement-meta+json": {
              "spark_pool": "sparkPool01",
              "session_id": "0",
              "statement_id": 83,
              "state": "finished",
              "livy_statement_state": "available",
              "queued_time": "2023-03-13T23:23:49.1158254Z",
              "session_start_time": null,
              "execution_start_time": "2023-03-13T23:23:49.2879862Z",
              "execution_finish_time": "2023-03-13T23:23:49.4591398Z",
              "spark_jobs": null,
              "parent_msg_id": "9a729ca0-8eef-4043-b882-a396851a04c6"
            },
            "text/plain": "StatementMeta(sparkPool01, 0, 83, Finished, Available)"
          },
          "metadata": {}
        }
      ],
      "execution_count": 68,
      "metadata": {
        "jupyter": {
          "source_hidden": false,
          "outputs_hidden": false
        },
        "nteract": {
          "transient": {
            "deleting": false
          }
        }
      }
    },
    {
      "cell_type": "markdown",
      "source": [
        "# Helper functions"
      ],
      "metadata": {
        "nteract": {
          "transient": {
            "deleting": false
          }
        }
      }
    },
    {
      "cell_type": "code",
      "source": [
        "def player_summary(df, name):\r\n",
        "    return df.filter(df[\"Player\"] == name).orderBy(F.desc(\"Year\"))"
      ],
      "outputs": [
        {
          "output_type": "display_data",
          "data": {
            "application/vnd.livy.statement-meta+json": {
              "spark_pool": "sparkPool01",
              "session_id": "0",
              "statement_id": 92,
              "state": "finished",
              "livy_statement_state": "available",
              "queued_time": "2023-03-13T23:31:58.7439642Z",
              "session_start_time": null,
              "execution_start_time": "2023-03-13T23:31:58.9123548Z",
              "execution_finish_time": "2023-03-13T23:31:59.0822914Z",
              "spark_jobs": null,
              "parent_msg_id": "c189933e-d077-4f92-ab79-79ad45897ab0"
            },
            "text/plain": "StatementMeta(sparkPool01, 0, 92, Finished, Available)"
          },
          "metadata": {}
        }
      ],
      "execution_count": 77,
      "metadata": {
        "jupyter": {
          "source_hidden": false,
          "outputs_hidden": false
        },
        "nteract": {
          "transient": {
            "deleting": false
          }
        }
      }
    },
    {
      "cell_type": "markdown",
      "source": [
        "# Basic exploration"
      ],
      "metadata": {
        "nteract": {
          "transient": {
            "deleting": false
          }
        }
      }
    },
    {
      "cell_type": "code",
      "source": [
        "display(player_summary(df, \"LeBron James\"))"
      ],
      "outputs": [],
      "execution_count": null,
      "metadata": {
        "jupyter": {
          "source_hidden": false,
          "outputs_hidden": false
        },
        "nteract": {
          "transient": {
            "deleting": false
          }
        },
        "collapsed": false
      }
    }
  ],
  "metadata": {
    "kernelspec": {
      "name": "synapse_pyspark",
      "language": "Python",
      "display_name": "Synapse PySpark"
    },
    "language_info": {
      "name": "python"
    },
    "kernel_info": {
      "name": "synapse_pyspark"
    },
    "description": null,
    "save_output": true,
    "synapse_widget": {
      "version": "0.1",
      "state": {}
    }
  },
  "nbformat": 4,
  "nbformat_minor": 2
}