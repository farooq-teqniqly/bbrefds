{
  "cells": [
    {
      "cell_type": "markdown",
      "source": [
        "# Functions Shared Across Notebooks"
      ],
      "metadata": {
        "nteract": {
          "transient": {
            "deleting": false
          }
        }
      }
    },
    {
      "cell_type": "code",
      "source": [
        "from pyspark.sql import functions as F"
      ],
      "outputs": [],
      "execution_count": null,
      "metadata": {}
    },
    {
      "cell_type": "code",
      "source": [
        "def load_data(data_root):\r\n",
        "    df = spark.read.format(\"csv\").option(\"header\", \"true\").load(data_root + \"*.csv\")\r\n",
        "    df = df.withColumn(\"file_name\", F.input_file_name())\r\n",
        "    df = df.withColumn(\"Year\", F.regexp_extract(df[\"file_name\"], r\"\\d{4}\", 0))\r\n",
        "    df = df.drop(\"file_name\")\r\n",
        "    df = df.withColumn(\"Player\", F.regexp_replace(df[\"Player\"], \"\\*\", \"\"))\r\n",
        "\r\n",
        "    return df\r\n",
        "\r\n",
        "def player_summary(df, name):\r\n",
        "    return df.filter(df[\"Player\"] == name).orderBy(F.desc(\"Year\"))"
      ],
      "outputs": [],
      "execution_count": null,
      "metadata": {
        "jupyter": {
          "source_hidden": false,
          "outputs_hidden": false
        },
        "nteract": {
          "transient": {
            "deleting": false
          }
        }
      }
    }
  ],
  "metadata": {
    "language_info": {
      "name": "python"
    },
    "kernelspec": {
      "name": "synapse_pyspark",
      "display_name": "python"
    },
    "save_output": true,
    "synapse_widget": {
      "version": "0.1",
      "state": {}
    }
  },
  "nbformat": 4,
  "nbformat_minor": 2
}