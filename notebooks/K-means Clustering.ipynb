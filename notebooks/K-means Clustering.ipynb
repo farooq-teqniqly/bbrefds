{
  "nbformat": 4,
  "nbformat_minor": 2,
  "metadata": {
    "kernelspec": {
      "name": "synapse_pyspark",
      "display_name": "Synapse PySpark"
    },
    "language_info": {
      "name": "python"
    },
    "description": null,
    "save_output": true,
    "synapse_widget": {
      "version": "0.1",
      "state": {}
    }
  },
  "cells": [
    {
      "cell_type": "markdown",
      "metadata": {
        "nteract": {
          "transient": {
            "deleting": false
          }
        }
      },
      "source": [
        "# K-means Clustering"
      ]
    },
    {
      "cell_type": "code",
      "execution_count": null,
      "outputs": [],
      "metadata": {
        "jupyter": {
          "source_hidden": false,
          "outputs_hidden": false
        },
        "nteract": {
          "transient": {
            "deleting": false
          }
        }
      },
      "source": [
        "from pyspark.ml.clustering import KMeans\r\n",
        "from pyspark.ml.feature import VectorAssembler\r\n",
        "from pyspark.ml.evaluation import ClusteringEvaluator"
      ]
    },
    {
      "cell_type": "markdown",
      "metadata": {
        "nteract": {
          "transient": {
            "deleting": false
          }
        }
      },
      "source": [
        "# Notebook variables"
      ]
    },
    {
      "cell_type": "code",
      "execution_count": null,
      "outputs": [],
      "metadata": {
        "jupyter": {
          "source_hidden": false,
          "outputs_hidden": false
        },
        "nteract": {
          "transient": {
            "deleting": false
          }
        }
      },
      "source": [
        "# NOTE: The dataRoot path must end in a '/'!\r\n",
        "data_root = \"abfss://msjhrwsynfs@msjhrwsyndl.dfs.core.windows.net/data/totals/\""
      ]
    },
    {
      "cell_type": "markdown",
      "metadata": {
        "nteract": {
          "transient": {
            "deleting": false
          }
        }
      },
      "source": [
        "# Reference Common notebook"
      ]
    },
    {
      "cell_type": "code",
      "execution_count": null,
      "outputs": [],
      "metadata": {
        "jupyter": {
          "source_hidden": false,
          "outputs_hidden": false
        },
        "nteract": {
          "transient": {
            "deleting": false
          }
        }
      },
      "source": [
        "%run \"Common\""
      ]
    },
    {
      "cell_type": "markdown",
      "metadata": {
        "nteract": {
          "transient": {
            "deleting": false
          }
        }
      },
      "source": [
        "## Load dataframe and replace null \"BLK\" values"
      ]
    },
    {
      "cell_type": "code",
      "execution_count": null,
      "outputs": [],
      "metadata": {
        "jupyter": {
          "source_hidden": false,
          "outputs_hidden": false
        },
        "nteract": {
          "transient": {
            "deleting": false
          }
        },
        "collapsed": false
      },
      "source": [
        "df = load_data(data_root)\r\n",
        "\r\n",
        "percentiles = [0.25, 0.5, 0.75]\r\n",
        "blk_percentiles = career_df.approxQuantile(\"BLK\", percentiles, 0.01)\r\n",
        "\r\n",
        "# Replace null \"BLK\" column values with the 50th percentile value.\r\n",
        "df = df.fillna({\"BLK\": blk_percentiles[-2]})"
      ]
    },
    {
      "cell_type": "markdown",
      "metadata": {
        "nteract": {
          "transient": {
            "deleting": false
          }
        }
      },
      "source": [
        "## Generate the career stats dataframe"
      ]
    },
    {
      "cell_type": "code",
      "execution_count": null,
      "outputs": [],
      "metadata": {
        "jupyter": {
          "source_hidden": false,
          "outputs_hidden": false
        },
        "nteract": {
          "transient": {
            "deleting": false
          }
        },
        "collapsed": false
      },
      "source": [
        "career_df = career_totals(df)\r\n",
        "years_played_df = years_played(df)\r\n",
        "career_df = career_df.join(years_played_df, \"PlayerId\", \"left\").orderBy(F.desc(\"Years_played\"))\r\n",
        "display(career_df)"
      ]
    },
    {
      "cell_type": "markdown",
      "metadata": {
        "nteract": {
          "transient": {
            "deleting": false
          }
        }
      },
      "source": [
        "## Perform K-means clustering"
      ]
    },
    {
      "cell_type": "code",
      "execution_count": null,
      "outputs": [],
      "metadata": {
        "jupyter": {
          "source_hidden": false,
          "outputs_hidden": false
        },
        "nteract": {
          "transient": {
            "deleting": false
          }
        },
        "collapsed": false
      },
      "source": [
        "feature_cols = ['PPG', 'RPG', 'APG', 'BPG']\r\n",
        "\r\n",
        "assembler = VectorAssembler(inputCols=feature_cols, outputCol='features')\r\n",
        "feature_df = assembler.transform(career_df)\r\n",
        "\r\n",
        "kmeans = KMeans(featuresCol='features', k=8, seed=123)\r\n",
        "model = kmeans.fit(feature_df)\r\n",
        "\r\n",
        "predictions_df = model.transform(feature_df)\r\n",
        "\r\n",
        "player_clusters_df = predictions_df.select(\"PlayerId\", \"prediction\")\r\n",
        "\r\n",
        "display(player_clusters_df)\r\n",
        ""
      ]
    },
    {
      "cell_type": "markdown",
      "metadata": {
        "nteract": {
          "transient": {
            "deleting": false
          }
        }
      },
      "source": [
        "## Evaluate the clustering"
      ]
    },
    {
      "cell_type": "code",
      "execution_count": null,
      "outputs": [],
      "metadata": {
        "jupyter": {
          "source_hidden": false,
          "outputs_hidden": false
        },
        "nteract": {
          "transient": {
            "deleting": false
          }
        }
      },
      "source": [
        "evaluator = ClusteringEvaluator()\r\n",
        "silhouette = evaluator.evaluate(predictions)\r\n",
        "\r\n",
        "inertia = model.summary.trainingCost\r\n",
        "print(f\"Inertia: {inertia}\")\r\n",
        "print(f\"Silhouette: {silhouette}\")"
      ]
    },
    {
      "cell_type": "markdown",
      "metadata": {
        "nteract": {
          "transient": {
            "deleting": false
          }
        }
      },
      "source": [
        "## Show the players in cluster 1"
      ]
    },
    {
      "cell_type": "code",
      "execution_count": null,
      "outputs": [],
      "metadata": {
        "jupyter": {
          "source_hidden": false,
          "outputs_hidden": false
        },
        "nteract": {
          "transient": {
            "deleting": false
          }
        },
        "collapsed": false
      },
      "source": [
        "display(players_in_cluster(player_clusters_df, 1).orderBy(\"PlayerId\"))"
      ]
    },
    {
      "cell_type": "markdown",
      "metadata": {
        "nteract": {
          "transient": {
            "deleting": false
          }
        }
      },
      "source": [
        "## Get the cluster a player belongs to"
      ]
    },
    {
      "cell_type": "code",
      "execution_count": null,
      "outputs": [],
      "metadata": {
        "jupyter": {
          "source_hidden": false,
          "outputs_hidden": false
        },
        "nteract": {
          "transient": {
            "deleting": false
          }
        }
      },
      "source": [
        "id = get_player_id(df, \"Michael Jordan\")[0]\r\n",
        "players_cluster(player_clusters_df, id)"
      ]
    },
    {
      "cell_type": "code",
      "execution_count": null,
      "outputs": [],
      "metadata": {
        "jupyter": {
          "source_hidden": false,
          "outputs_hidden": false
        },
        "nteract": {
          "transient": {
            "deleting": false
          }
        }
      },
      "source": [
        "from pandas.plotting import parallel_coordinates\r\n",
        "\r\n",
        "data = predictions_df.toPandas()\r\n",
        "parallel_coordinates(data, \"prediction\")\r\n",
        "plt.show()"
      ]
    }
  ]
}