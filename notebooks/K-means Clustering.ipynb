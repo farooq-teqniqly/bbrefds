{
  "nbformat": 4,
  "nbformat_minor": 2,
  "cells": [
    {
      "cell_type": "markdown",
      "metadata": {
        "nteract": {
          "transient": {
            "deleting": false
          }
        }
      },
      "source": [
        "# K-means Clustering"
      ]
    },
    {
      "cell_type": "code",
      "execution_count": null,
      "outputs": [],
      "metadata": {
        "jupyter": {
          "source_hidden": false,
          "outputs_hidden": false
        },
        "nteract": {
          "transient": {
            "deleting": false
          }
        }
      },
      "source": [
        "from pyspark.ml.clustering import KMeans\r\n",
        "from pyspark.ml.feature import VectorAssembler\r\n",
        "from pyspark.ml.evaluation import ClusteringEvaluator\r\n",
        "import matplotlib.pyplot as plt\r\n",
        "from pandas.plotting import parallel_coordinates"
      ]
    },
    {
      "cell_type": "markdown",
      "metadata": {
        "nteract": {
          "transient": {
            "deleting": false
          }
        }
      },
      "source": [
        "# Notebook variables"
      ]
    },
    {
      "cell_type": "code",
      "execution_count": null,
      "outputs": [],
      "metadata": {
        "jupyter": {
          "source_hidden": false,
          "outputs_hidden": false
        },
        "nteract": {
          "transient": {
            "deleting": false
          }
        }
      },
      "source": [
        "# NOTE: The dataRoot path must end in a '/'!\r\n",
        "data_root = \"abfss://[YOUR DATA PATH]/data/totals/\""
      ]
    },
    {
      "cell_type": "markdown",
      "metadata": {
        "nteract": {
          "transient": {
            "deleting": false
          }
        }
      },
      "source": [
        "# Reference Common notebook"
      ]
    },
    {
      "cell_type": "code",
      "execution_count": null,
      "outputs": [],
      "metadata": {
        "jupyter": {
          "source_hidden": false,
          "outputs_hidden": false
        },
        "nteract": {
          "transient": {
            "deleting": false
          }
        }
      },
      "source": [
        "%run \"Common\""
      ]
    },
    {
      "cell_type": "markdown",
      "metadata": {
        "nteract": {
          "transient": {
            "deleting": false
          }
        }
      },
      "source": [
        "## Load dataframe and replace null \"BLK\" values"
      ]
    },
    {
      "cell_type": "code",
      "execution_count": null,
      "outputs": [],
      "metadata": {
        "jupyter": {
          "source_hidden": false,
          "outputs_hidden": false
        },
        "nteract": {
          "transient": {
            "deleting": false
          }
        },
        "collapsed": false
      },
      "source": [
        "df = load_data(data_root)\r\n",
        "\r\n",
        "# percentiles = [0.25, 0.5, 0.75]\r\n",
        "# blk_percentiles = df.approxQuantile(\"BLK\", percentiles, 0.01)\r\n",
        "\r\n",
        "# Replace null \"BLK\" column values with the 50th percentile value.\r\n",
        "# df = df.fillna({\"BLK\": blk_percentiles[-2]})\r\n",
        "df = df.dropna(subset=[\"BLK\"])"
      ]
    },
    {
      "cell_type": "markdown",
      "metadata": {
        "nteract": {
          "transient": {
            "deleting": false
          }
        }
      },
      "source": [
        "## Generate the career stats dataframe"
      ]
    },
    {
      "cell_type": "code",
      "execution_count": null,
      "outputs": [],
      "metadata": {
        "jupyter": {
          "source_hidden": false,
          "outputs_hidden": false
        },
        "nteract": {
          "transient": {
            "deleting": false
          }
        },
        "collapsed": false
      },
      "source": [
        "career_df = career_totals(df)\r\n",
        "years_played_df = years_played(df)\r\n",
        "career_df = career_df.join(years_played_df, \"PlayerId\", \"left\").orderBy(F.desc(\"Years_played\"))\r\n",
        "display(career_df)"
      ]
    },
    {
      "cell_type": "markdown",
      "metadata": {
        "nteract": {
          "transient": {
            "deleting": false
          }
        }
      },
      "source": [
        "## Perform K-means clustering"
      ]
    },
    {
      "cell_type": "code",
      "execution_count": null,
      "outputs": [],
      "metadata": {
        "jupyter": {
          "source_hidden": false,
          "outputs_hidden": false
        },
        "nteract": {
          "transient": {
            "deleting": false
          }
        },
        "collapsed": false
      },
      "source": [
        "feature_cols = ['PPG', 'RPG', 'APG', 'BPG']\r\n",
        "k = 8\r\n",
        "\r\n",
        "assembler = VectorAssembler(inputCols=feature_cols, outputCol='features')\r\n",
        "feature_df = assembler.transform(career_df)\r\n",
        "\r\n",
        "kmeans = KMeans(featuresCol='features', k=k, seed=123)\r\n",
        "model = kmeans.fit(feature_df)\r\n",
        "\r\n",
        "predictions_df = model.transform(feature_df)\r\n",
        "\r\n",
        "player_clusters_df = predictions_df.select(\"PlayerId\", \"prediction\")\r\n",
        "\r\n",
        "display(player_clusters_df)\r\n",
        ""
      ]
    },
    {
      "cell_type": "markdown",
      "metadata": {
        "nteract": {
          "transient": {
            "deleting": false
          }
        }
      },
      "source": [
        "## Evaluate the clustering"
      ]
    },
    {
      "cell_type": "code",
      "execution_count": 70,
      "outputs": [
        {
          "output_type": "display_data",
          "data": {
            "application/vnd.livy.statement-meta+json": {
              "spark_pool": "sparkPool01",
              "session_id": "0",
              "statement_id": 80,
              "state": "finished",
              "livy_statement_state": "available",
              "queued_time": "2023-03-15T01:19:47.8242152Z",
              "session_start_time": null,
              "execution_start_time": "2023-03-15T01:20:02.0881503Z",
              "execution_finish_time": "2023-03-15T01:20:05.0792793Z",
              "spark_jobs": null,
              "parent_msg_id": "ef6933b2-2c8d-4e3e-af01-928d0293c28b"
            },
            "text/plain": "StatementMeta(sparkPool01, 0, 80, Finished, Available)"
          },
          "metadata": {}
        },
        {
          "output_type": "stream",
          "name": "stdout",
          "text": "Inertia: 12929.28267712853\nSilhouette: 0.4835499506886051\n"
        }
      ],
      "metadata": {
        "jupyter": {
          "source_hidden": false,
          "outputs_hidden": false
        },
        "nteract": {
          "transient": {
            "deleting": false
          }
        }
      },
      "source": [
        "evaluator = ClusteringEvaluator()\r\n",
        "silhouette = evaluator.evaluate(predictions_df)\r\n",
        "\r\n",
        "inertia = model.summary.trainingCost\r\n",
        "print(f\"Inertia: {inertia}\")\r\n",
        "print(f\"Silhouette: {silhouette}\")"
      ]
    },
    {
      "cell_type": "markdown",
      "metadata": {
        "nteract": {
          "transient": {
            "deleting": false
          }
        }
      },
      "source": [
        "## Get the cluster a player belongs to"
      ]
    },
    {
      "cell_type": "code",
      "execution_count": null,
      "outputs": [],
      "metadata": {
        "jupyter": {
          "source_hidden": false,
          "outputs_hidden": false
        },
        "nteract": {
          "transient": {
            "deleting": false
          }
        }
      },
      "source": [
        "id = get_player_id(df, \"LeBron James\")[0]\r\n",
        "james_cluster = players_cluster(player_clusters_df, id)[0]\r\n",
        "james_cluster"
      ]
    },
    {
      "cell_type": "markdown",
      "metadata": {
        "nteract": {
          "transient": {
            "deleting": false
          }
        }
      },
      "source": [
        "## Show the players in cluster"
      ]
    },
    {
      "cell_type": "code",
      "execution_count": null,
      "outputs": [],
      "metadata": {
        "jupyter": {
          "source_hidden": false,
          "outputs_hidden": false
        },
        "nteract": {
          "transient": {
            "deleting": false
          }
        },
        "collapsed": false
      },
      "source": [
        "display(players_in_cluster(player_clusters_df, james_cluster).orderBy(\"PlayerId\"))"
      ]
    },
    {
      "cell_type": "markdown",
      "metadata": {
        "nteract": {
          "transient": {
            "deleting": false
          }
        }
      },
      "source": [
        "## Plot the clusters"
      ]
    },
    {
      "cell_type": "code",
      "execution_count": null,
      "outputs": [],
      "metadata": {
        "jupyter": {
          "source_hidden": false,
          "outputs_hidden": false
        },
        "nteract": {
          "transient": {
            "deleting": false
          }
        }
      },
      "source": [
        "fig, axes = plt.subplots(nrows=2, ncols=4, figsize=(16, 8))\r\n",
        "\r\n",
        "for k, ax in zip(range(k), axes.flat):\r\n",
        "    data = predictions_df.select(*feature_cols, \"prediction\").filter(predictions_df[\"prediction\"] == k).toPandas()\r\n",
        "    parallel_coordinates(data, \"prediction\", ax=ax)\r\n",
        "    ax.set_title(f\"Cluster {k}\")\r\n",
        "    ax.set_ylim(0, 30)\r\n",
        "\r\n",
        "plt.tight_layout()\r\n",
        "plt.show()"
      ]
    }
  ],
  "metadata": {
    "description": null,
    "save_output": true,
    "kernelspec": {
      "name": "synapse_pyspark",
      "display_name": "Synapse PySpark"
    },
    "language_info": {
      "name": "python"
    },
    "synapse_widget": {
      "version": "0.1",
      "state": {}
    }
  }
}